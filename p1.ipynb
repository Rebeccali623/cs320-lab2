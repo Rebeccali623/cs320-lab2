{
 "cells": [
  {
   "cell_type": "code",
   "execution_count": 1,
   "metadata": {},
   "outputs": [],
   "source": [
    "# project: p1\n",
    "# submitter: tharter\n",
    "# partner: none\n",
    "# hours: 3.14"
   ]
  },
  {
   "cell_type": "code",
   "execution_count": 2,
   "metadata": {},
   "outputs": [],
   "source": [
    "import os, json, string, random, time\n",
    "from subprocess import check_output, CalledProcessError\n",
    "from collections import defaultdict as ddict\n",
    "import pandas as pd\n",
    "import matplotlib.pyplot as plt"
   ]
  },
  {
   "cell_type": "code",
   "execution_count": 3,
   "metadata": {},
   "outputs": [],
   "source": [
    "%matplotlib inline"
   ]
  },
  {
   "cell_type": "code",
   "execution_count": 4,
   "metadata": {},
   "outputs": [],
   "source": [
    "plt.rcParams[\"font.size\"] = 16"
   ]
  },
  {
   "cell_type": "markdown",
   "metadata": {},
   "source": [
    "## Part 1: Repo Analysis"
   ]
  },
  {
   "cell_type": "code",
   "execution_count": 5,
   "metadata": {},
   "outputs": [],
   "source": [
    "def checkout(commit):\n",
    "    check_output([\"git\", \"checkout\", commit], cwd=\"repo\")\n",
    "    \n",
    "checkout(\"main\")"
   ]
  },
  {
   "cell_type": "code",
   "execution_count": 6,
   "metadata": {},
   "outputs": [
    {
     "data": {
      "text/plain": [
       "['commit 4e4128313b8d5b5e5d04f2e8e585f64f7c5831a4',\n",
       " 'Author: Steve <steve@example.com>',\n",
       " 'Date:   Mon Jan 20 15:00:00 2020 -0600',\n",
       " '',\n",
       " '    only make one pass over list to count all',\n",
       " '',\n",
       " 'commit f637df3f45bc389e1035cc3aadcf5d81a55f0dc4',\n",
       " 'Author: Steve <steve@example.com>',\n",
       " 'Date:   Sat Jan 18 18:00:00 2020 -0600',\n",
       " '']"
      ]
     },
     "execution_count": 6,
     "metadata": {},
     "output_type": "execute_result"
    }
   ],
   "source": [
    "lines = str(check_output([\"git\", \"log\"], cwd=\"repo\"), \"utf-8\").split(\"\\n\")\n",
    "lines[:10]"
   ]
  },
  {
   "cell_type": "code",
   "execution_count": 7,
   "metadata": {},
   "outputs": [
    {
     "data": {
      "text/plain": [
       "8"
      ]
     },
     "execution_count": 7,
     "metadata": {},
     "output_type": "execute_result"
    }
   ],
   "source": [
    "#q1\n",
    "commits = []\n",
    "authors = []\n",
    "for l in lines:\n",
    "    if l.startswith(\"commit\"):\n",
    "        commits.append(l.split()[1])\n",
    "    if l.startswith(\"Author:\"):\n",
    "        authors.append(l.split()[1])\n",
    "commits = commits[::-1]\n",
    "authors = authors[::-1]\n",
    "len(commits)"
   ]
  },
  {
   "cell_type": "code",
   "execution_count": 8,
   "metadata": {},
   "outputs": [
    {
     "data": {
      "text/plain": [
       "{'Ada': 3, 'Linus': 2, 'Steve': 3}"
      ]
     },
     "execution_count": 8,
     "metadata": {},
     "output_type": "execute_result"
    }
   ],
   "source": [
    "#q2\n",
    "counts = ddict(int)\n",
    "for a in authors:\n",
    "    counts[a] += 1\n",
    "dict(counts)"
   ]
  },
  {
   "cell_type": "code",
   "execution_count": 9,
   "metadata": {},
   "outputs": [],
   "source": [
    "def format_ax(ax):\n",
    "    ax.spines[\"top\"].set_visible(False)\n",
    "    ax.spines[\"right\"].set_visible(False)"
   ]
  },
  {
   "cell_type": "code",
   "execution_count": 10,
   "metadata": {},
   "outputs": [
    {
     "data": {
      "image/png": "[encoded data removed]",
      "text/plain": [
       "<Figure size 216x216 with 1 Axes>"
      ]
     },
     "metadata": {
      "needs_background": "light"
     },
     "output_type": "display_data"
    }
   ],
   "source": [
    "#q3\n",
    "ax = pd.Series(counts).plot.bar(figsize=(3,3), color=\"k\")\n",
    "plt.ylabel(\"Commit Count\")\n",
    "format_ax(ax)"
   ]
  },
  {
   "cell_type": "code",
   "execution_count": 11,
   "metadata": {},
   "outputs": [
    {
     "data": {
      "text/plain": [
       "[21, 35, 35, 39, 40, 40, 40, 43]"
      ]
     },
     "execution_count": 11,
     "metadata": {},
     "output_type": "execute_result"
    }
   ],
   "source": [
    "#q4\n",
    "def line_len():\n",
    "    with open(os.path.join(\"repo\", \"wc.py\")) as f:\n",
    "        return len(list(f))\n",
    "\n",
    "sizes = []\n",
    "    \n",
    "for i, c in enumerate(commits):\n",
    "    checkout(c)\n",
    "    sizes.append(line_len())\n",
    "checkout(\"main\")\n",
    "sizes"
   ]
  },
  {
   "cell_type": "code",
   "execution_count": 12,
   "metadata": {},
   "outputs": [
    {
     "data": {
      "text/plain": [
       "Text(0, 0.5, 'Lines')"
      ]
     },
     "execution_count": 12,
     "metadata": {},
     "output_type": "execute_result"
    },
    {
     "data": {
      "image/png": "[encoded data removed]",
      "text/plain": [
       "<Figure size 432x288 with 1 Axes>"
      ]
     },
     "metadata": {
      "needs_background": "light"
     },
     "output_type": "display_data"
    }
   ],
   "source": [
    "#q5\n",
    "ax = pd.Series(sizes).plot.line(color=\"r\", ylim=0)\n",
    "format_ax(ax)\n",
    "plt.xlabel(\"Commit\")\n",
    "plt.ylabel(\"Lines\")"
   ]
  },
  {
   "cell_type": "markdown",
   "metadata": {},
   "source": [
    "## Part 2: Testing"
   ]
  },
  {
   "cell_type": "code",
   "execution_count": 13,
   "metadata": {},
   "outputs": [],
   "source": [
    "def run_wc(body, commit=None):\n",
    "    if commit == None:\n",
    "        commit = \"main\"\n",
    "\n",
    "    with open(os.path.join(\"repo\", \"test.txt\"), \"w\") as f:\n",
    "        f.write(body)\n",
    "\n",
    "    checkout(commit)\n",
    "    try:\n",
    "        rv = check_output([\"python3\", \"wc.py\", \"test.txt\", \"ALL\"], cwd=\"repo\")\n",
    "        rv = json.loads(str(rv, \"utf-8\"))\n",
    "    except CalledProcessError:\n",
    "        rv = None\n",
    "    checkout(\"main\")\n",
    "    return rv"
   ]
  },
  {
   "cell_type": "code",
   "execution_count": 14,
   "metadata": {},
   "outputs": [],
   "source": [
    "# test inputs to exercise wc.py\n",
    "\n",
    "# expected result: {'X': 1, 'Y': 1, 'Z': 1}\n",
    "test1 = \"\"\"X Y Z\"\"\"\n",
    "\n",
    "# expected result: \n",
    "test2 = \"\"\"A B\n",
    "A C\n",
    "\"\"\"\n",
    "\n",
    "# expected result: {'A': 2, 'B': 1, 'C': 1}\n",
    "test3 = \"\"\"A B\n",
    "a c\n",
    "\"\"\""
   ]
  },
  {
   "cell_type": "code",
   "execution_count": 15,
   "metadata": {},
   "outputs": [
    {
     "data": {
      "text/plain": [
       "{'X': 1, 'Y': 1, 'Z': 1}"
      ]
     },
     "execution_count": 15,
     "metadata": {},
     "output_type": "execute_result"
    }
   ],
   "source": [
    "#q6\n",
    "run_wc(test1)"
   ]
  },
  {
   "cell_type": "code",
   "execution_count": 16,
   "metadata": {},
   "outputs": [
    {
     "data": {
      "text/plain": [
       "{'A': 2, 'B': 1, 'C': 1}"
      ]
     },
     "execution_count": 16,
     "metadata": {},
     "output_type": "execute_result"
    }
   ],
   "source": [
    "#q7\n",
    "run_wc(test3)"
   ]
  },
  {
   "cell_type": "code",
   "execution_count": 17,
   "metadata": {},
   "outputs": [],
   "source": [
    "def test_table(body, expected):\n",
    "    df = pd.DataFrame({\"commit\":commits, \"author\":authors})\n",
    "    for i, commit in enumerate(commits):\n",
    "        output = run_wc(body, commit)\n",
    "        df.loc[i, \"pass\"] = output == expected\n",
    "    return df"
   ]
  },
  {
   "cell_type": "code",
   "execution_count": 18,
   "metadata": {},
   "outputs": [
    {
     "data": {
      "text/html": [
       "<div>\n",
       "<style scoped>\n",
       "    .dataframe tbody tr th:only-of-type {\n",
       "        vertical-align: middle;\n",
       "    }\n",
       "\n",
       "    .dataframe tbody tr th {\n",
       "        vertical-align: top;\n",
       "    }\n",
       "\n",
       "    .dataframe thead th {\n",
       "        text-align: right;\n",
       "    }\n",
       "</style>\n",
       "<table border=\"1\" class=\"dataframe\">\n",
       "  <thead>\n",
       "    <tr style=\"text-align: right;\">\n",
       "      <th></th>\n",
       "      <th>commit</th>\n",
       "      <th>author</th>\n",
       "      <th>pass</th>\n",
       "    </tr>\n",
       "  </thead>\n",
       "  <tbody>\n",
       "    <tr>\n",
       "      <th>0</th>\n",
       "      <td>6d7beafb8e79b7a92fed8e67673a33bb7f607dbe</td>\n",
       "      <td>Ada</td>\n",
       "      <td>False</td>\n",
       "    </tr>\n",
       "    <tr>\n",
       "      <th>1</th>\n",
       "      <td>b0df6dbe111f9e28fc3a9c9b841cde5c20c365f9</td>\n",
       "      <td>Linus</td>\n",
       "      <td>True</td>\n",
       "    </tr>\n",
       "    <tr>\n",
       "      <th>2</th>\n",
       "      <td>761627a3ad9ee681f27211326e9149f01764ceee</td>\n",
       "      <td>Linus</td>\n",
       "      <td>True</td>\n",
       "    </tr>\n",
       "    <tr>\n",
       "      <th>3</th>\n",
       "      <td>6f5ca9327e986315ffcacddce5d9d6195c0913b7</td>\n",
       "      <td>Ada</td>\n",
       "      <td>True</td>\n",
       "    </tr>\n",
       "    <tr>\n",
       "      <th>4</th>\n",
       "      <td>f37e610ce055a3d894baac2d9449e6eb77c72320</td>\n",
       "      <td>Steve</td>\n",
       "      <td>True</td>\n",
       "    </tr>\n",
       "    <tr>\n",
       "      <th>5</th>\n",
       "      <td>c10b5a6cb4f06c96f6f221df2d5ec33af767d5c5</td>\n",
       "      <td>Ada</td>\n",
       "      <td>True</td>\n",
       "    </tr>\n",
       "    <tr>\n",
       "      <th>6</th>\n",
       "      <td>f637df3f45bc389e1035cc3aadcf5d81a55f0dc4</td>\n",
       "      <td>Steve</td>\n",
       "      <td>False</td>\n",
       "    </tr>\n",
       "    <tr>\n",
       "      <th>7</th>\n",
       "      <td>4e4128313b8d5b5e5d04f2e8e585f64f7c5831a4</td>\n",
       "      <td>Steve</td>\n",
       "      <td>True</td>\n",
       "    </tr>\n",
       "  </tbody>\n",
       "</table>\n",
       "</div>"
      ],
      "text/plain": [
       "                                     commit author   pass\n",
       "0  6d7beafb8e79b7a92fed8e67673a33bb7f607dbe    Ada  False\n",
       "1  b0df6dbe111f9e28fc3a9c9b841cde5c20c365f9  Linus   True\n",
       "2  761627a3ad9ee681f27211326e9149f01764ceee  Linus   True\n",
       "3  6f5ca9327e986315ffcacddce5d9d6195c0913b7    Ada   True\n",
       "4  f37e610ce055a3d894baac2d9449e6eb77c72320  Steve   True\n",
       "5  c10b5a6cb4f06c96f6f221df2d5ec33af767d5c5    Ada   True\n",
       "6  f637df3f45bc389e1035cc3aadcf5d81a55f0dc4  Steve  False\n",
       "7  4e4128313b8d5b5e5d04f2e8e585f64f7c5831a4  Steve   True"
      ]
     },
     "execution_count": 18,
     "metadata": {},
     "output_type": "execute_result"
    }
   ],
   "source": [
    "#q8\n",
    "test_table(test1, {'X': 1, 'Y': 1, 'Z': 1})"
   ]
  },
  {
   "cell_type": "code",
   "execution_count": 19,
   "metadata": {},
   "outputs": [
    {
     "data": {
      "text/html": [
       "<div>\n",
       "<style scoped>\n",
       "    .dataframe tbody tr th:only-of-type {\n",
       "        vertical-align: middle;\n",
       "    }\n",
       "\n",
       "    .dataframe tbody tr th {\n",
       "        vertical-align: top;\n",
       "    }\n",
       "\n",
       "    .dataframe thead th {\n",
       "        text-align: right;\n",
       "    }\n",
       "</style>\n",
       "<table border=\"1\" class=\"dataframe\">\n",
       "  <thead>\n",
       "    <tr style=\"text-align: right;\">\n",
       "      <th></th>\n",
       "      <th>commit</th>\n",
       "      <th>author</th>\n",
       "      <th>pass</th>\n",
       "    </tr>\n",
       "  </thead>\n",
       "  <tbody>\n",
       "    <tr>\n",
       "      <th>0</th>\n",
       "      <td>6d7beafb8e79b7a92fed8e67673a33bb7f607dbe</td>\n",
       "      <td>Ada</td>\n",
       "      <td>False</td>\n",
       "    </tr>\n",
       "    <tr>\n",
       "      <th>1</th>\n",
       "      <td>b0df6dbe111f9e28fc3a9c9b841cde5c20c365f9</td>\n",
       "      <td>Linus</td>\n",
       "      <td>False</td>\n",
       "    </tr>\n",
       "    <tr>\n",
       "      <th>2</th>\n",
       "      <td>761627a3ad9ee681f27211326e9149f01764ceee</td>\n",
       "      <td>Linus</td>\n",
       "      <td>True</td>\n",
       "    </tr>\n",
       "    <tr>\n",
       "      <th>3</th>\n",
       "      <td>6f5ca9327e986315ffcacddce5d9d6195c0913b7</td>\n",
       "      <td>Ada</td>\n",
       "      <td>True</td>\n",
       "    </tr>\n",
       "    <tr>\n",
       "      <th>4</th>\n",
       "      <td>f37e610ce055a3d894baac2d9449e6eb77c72320</td>\n",
       "      <td>Steve</td>\n",
       "      <td>True</td>\n",
       "    </tr>\n",
       "    <tr>\n",
       "      <th>5</th>\n",
       "      <td>c10b5a6cb4f06c96f6f221df2d5ec33af767d5c5</td>\n",
       "      <td>Ada</td>\n",
       "      <td>True</td>\n",
       "    </tr>\n",
       "    <tr>\n",
       "      <th>6</th>\n",
       "      <td>f637df3f45bc389e1035cc3aadcf5d81a55f0dc4</td>\n",
       "      <td>Steve</td>\n",
       "      <td>False</td>\n",
       "    </tr>\n",
       "    <tr>\n",
       "      <th>7</th>\n",
       "      <td>4e4128313b8d5b5e5d04f2e8e585f64f7c5831a4</td>\n",
       "      <td>Steve</td>\n",
       "      <td>True</td>\n",
       "    </tr>\n",
       "  </tbody>\n",
       "</table>\n",
       "</div>"
      ],
      "text/plain": [
       "                                     commit author   pass\n",
       "0  6d7beafb8e79b7a92fed8e67673a33bb7f607dbe    Ada  False\n",
       "1  b0df6dbe111f9e28fc3a9c9b841cde5c20c365f9  Linus  False\n",
       "2  761627a3ad9ee681f27211326e9149f01764ceee  Linus   True\n",
       "3  6f5ca9327e986315ffcacddce5d9d6195c0913b7    Ada   True\n",
       "4  f37e610ce055a3d894baac2d9449e6eb77c72320  Steve   True\n",
       "5  c10b5a6cb4f06c96f6f221df2d5ec33af767d5c5    Ada   True\n",
       "6  f637df3f45bc389e1035cc3aadcf5d81a55f0dc4  Steve  False\n",
       "7  4e4128313b8d5b5e5d04f2e8e585f64f7c5831a4  Steve   True"
      ]
     },
     "execution_count": 19,
     "metadata": {},
     "output_type": "execute_result"
    }
   ],
   "source": [
    "#q9\n",
    "test_table(test2, {'A': 2, 'B': 1, 'C': 1})"
   ]
  },
  {
   "cell_type": "code",
   "execution_count": 20,
   "metadata": {},
   "outputs": [
    {
     "data": {
      "text/html": [
       "<div>\n",
       "<style scoped>\n",
       "    .dataframe tbody tr th:only-of-type {\n",
       "        vertical-align: middle;\n",
       "    }\n",
       "\n",
       "    .dataframe tbody tr th {\n",
       "        vertical-align: top;\n",
       "    }\n",
       "\n",
       "    .dataframe thead th {\n",
       "        text-align: right;\n",
       "    }\n",
       "</style>\n",
       "<table border=\"1\" class=\"dataframe\">\n",
       "  <thead>\n",
       "    <tr style=\"text-align: right;\">\n",
       "      <th></th>\n",
       "      <th>commit</th>\n",
       "      <th>author</th>\n",
       "      <th>pass</th>\n",
       "    </tr>\n",
       "  </thead>\n",
       "  <tbody>\n",
       "    <tr>\n",
       "      <th>0</th>\n",
       "      <td>6d7beafb8e79b7a92fed8e67673a33bb7f607dbe</td>\n",
       "      <td>Ada</td>\n",
       "      <td>False</td>\n",
       "    </tr>\n",
       "    <tr>\n",
       "      <th>1</th>\n",
       "      <td>b0df6dbe111f9e28fc3a9c9b841cde5c20c365f9</td>\n",
       "      <td>Linus</td>\n",
       "      <td>False</td>\n",
       "    </tr>\n",
       "    <tr>\n",
       "      <th>2</th>\n",
       "      <td>761627a3ad9ee681f27211326e9149f01764ceee</td>\n",
       "      <td>Linus</td>\n",
       "      <td>False</td>\n",
       "    </tr>\n",
       "    <tr>\n",
       "      <th>3</th>\n",
       "      <td>6f5ca9327e986315ffcacddce5d9d6195c0913b7</td>\n",
       "      <td>Ada</td>\n",
       "      <td>True</td>\n",
       "    </tr>\n",
       "    <tr>\n",
       "      <th>4</th>\n",
       "      <td>f37e610ce055a3d894baac2d9449e6eb77c72320</td>\n",
       "      <td>Steve</td>\n",
       "      <td>True</td>\n",
       "    </tr>\n",
       "    <tr>\n",
       "      <th>5</th>\n",
       "      <td>c10b5a6cb4f06c96f6f221df2d5ec33af767d5c5</td>\n",
       "      <td>Ada</td>\n",
       "      <td>True</td>\n",
       "    </tr>\n",
       "    <tr>\n",
       "      <th>6</th>\n",
       "      <td>f637df3f45bc389e1035cc3aadcf5d81a55f0dc4</td>\n",
       "      <td>Steve</td>\n",
       "      <td>False</td>\n",
       "    </tr>\n",
       "    <tr>\n",
       "      <th>7</th>\n",
       "      <td>4e4128313b8d5b5e5d04f2e8e585f64f7c5831a4</td>\n",
       "      <td>Steve</td>\n",
       "      <td>True</td>\n",
       "    </tr>\n",
       "  </tbody>\n",
       "</table>\n",
       "</div>"
      ],
      "text/plain": [
       "                                     commit author   pass\n",
       "0  6d7beafb8e79b7a92fed8e67673a33bb7f607dbe    Ada  False\n",
       "1  b0df6dbe111f9e28fc3a9c9b841cde5c20c365f9  Linus  False\n",
       "2  761627a3ad9ee681f27211326e9149f01764ceee  Linus  False\n",
       "3  6f5ca9327e986315ffcacddce5d9d6195c0913b7    Ada   True\n",
       "4  f37e610ce055a3d894baac2d9449e6eb77c72320  Steve   True\n",
       "5  c10b5a6cb4f06c96f6f221df2d5ec33af767d5c5    Ada   True\n",
       "6  f637df3f45bc389e1035cc3aadcf5d81a55f0dc4  Steve  False\n",
       "7  4e4128313b8d5b5e5d04f2e8e585f64f7c5831a4  Steve   True"
      ]
     },
     "execution_count": 20,
     "metadata": {},
     "output_type": "execute_result"
    }
   ],
   "source": [
    "#q10\n",
    "test_table(test3, {'A': 2, 'B': 1, 'C': 1})"
   ]
  },
  {
   "cell_type": "markdown",
   "metadata": {},
   "source": [
    "## Part 3: Benchmarking"
   ]
  },
  {
   "cell_type": "code",
   "execution_count": 21,
   "metadata": {},
   "outputs": [],
   "source": [
    "#https://pynative.com/python-generate-random-string/\n",
    "def rand_str(stringLength=10):\n",
    "    \"\"\"Generate a random string of fixed length \"\"\"\n",
    "    letters = string.ascii_lowercase\n",
    "    return ''.join(random.choice(letters) for i in range(stringLength))\n",
    "\n",
    "def time_run_sec(uniq_words, total_words, word_size=6, commit=None):\n",
    "    words = [rand_str(word_size) for i in range(uniq_words)]\n",
    "    words = random.choices(words, k=total_words)\n",
    "    f = open(\"test.txt\", \"w\")\n",
    "    t0 = time.time()\n",
    "    result = run_wc(\" \".join(words), commit=commit)\n",
    "    t1 = time.time()\n",
    "    assert result != None\n",
    "    return t1 - t0\n",
    "\n",
    "versions = {\n",
    "    \"v0-baseline\": \"6f5ca9327e986315ffcacddce5d9d6195c0913b7\",\n",
    "    \"v1-open-once\": \"f37e610ce055a3d894baac2d9449e6eb77c72320\",\n",
    "    \"v2-pass-per-uniq\": \"c10b5a6cb4f06c96f6f221df2d5ec33af767d5c5\",\n",
    "    \"v3-single-pass\": \"4e4128313b8d5b5e5d04f2e8e585f64f7c5831a4\",\n",
    "}"
   ]
  },
  {
   "cell_type": "code",
   "execution_count": 22,
   "metadata": {},
   "outputs": [
    {
     "data": {
      "text/plain": [
       "v0-baseline         5.609437\n",
       "v1-open-once        0.804905\n",
       "v2-pass-per-uniq    0.072635\n",
       "v3-single-pass      0.057493\n",
       "dtype: float64"
      ]
     },
     "execution_count": 22,
     "metadata": {},
     "output_type": "execute_result"
    }
   ],
   "source": [
    "s = {version: time_run_sec(100, 5000, commit=commit) for version, commit in versions.items()}\n",
    "s = pd.Series(s)\n",
    "s"
   ]
  },
  {
   "cell_type": "code",
   "execution_count": 23,
   "metadata": {},
   "outputs": [
    {
     "data": {
      "text/plain": [
       "Text(0.5, 0, 'Exec Time (ms)')"
      ]
     },
     "execution_count": 23,
     "metadata": {},
     "output_type": "execute_result"
    },
    {
     "data": {
      "image/png": "[encoded data removed]",
      "text/plain": [
       "<Figure size 288x144 with 1 Axes>"
      ]
     },
     "metadata": {
      "needs_background": "light"
     },
     "output_type": "display_data"
    }
   ],
   "source": [
    "#q11\n",
    "s = s.sort_index(ascending=False)\n",
    "ax = (s*1000).plot.barh(logx=True, xlim=10, color=\"k\", figsize=(4,2))\n",
    "format_ax(ax)\n",
    "plt.xlabel(\"Exec Time (ms)\")"
   ]
  },
  {
   "cell_type": "code",
   "execution_count": 24,
   "metadata": {},
   "outputs": [
    {
     "data": {
      "text/plain": [
       "Text(0.5, 0, 'Exec Time (ms)')"
      ]
     },
     "execution_count": 24,
     "metadata": {},
     "output_type": "execute_result"
    },
    {
     "data": {
      "image/png": "[encoded data removed]",
      "text/plain": [
       "<Figure size 288x144 with 1 Axes>"
      ]
     },
     "metadata": {
      "needs_background": "light"
     },
     "output_type": "display_data"
    }
   ],
   "source": [
    "#q12\n",
    "s = {version: time_run_sec(1, 5000, commit=commit) for version, commit in versions.items()}\n",
    "s = pd.Series(s)\n",
    "s = s.sort_index(ascending=False)\n",
    "ax = (s*1000).plot.barh(logx=True, xlim=10, color=\"k\", figsize=(4,2))\n",
    "format_ax(ax)\n",
    "plt.xlabel(\"Exec Time (ms)\")"
   ]
  },
  {
   "cell_type": "markdown",
   "metadata": {},
   "source": [
    "# Part 4"
   ]
  },
  {
   "cell_type": "code",
   "execution_count": 25,
   "metadata": {},
   "outputs": [
    {
     "name": "stdout",
     "output_type": "stream",
     "text": [
      "100 1000\n",
      "50 1000\n",
      "10 1000\n",
      "200 2000\n",
      "100 2000\n",
      "20 2000\n",
      "500 5000\n",
      "250 5000\n",
      "50 5000\n",
      "1000 10000\n",
      "500 10000\n",
      "100 10000\n",
      "100 1000\n",
      "50 1000\n",
      "10 1000\n",
      "200 2000\n",
      "100 2000\n",
      "20 2000\n",
      "500 5000\n",
      "250 5000\n",
      "50 5000\n",
      "1000 10000\n",
      "500 10000\n",
      "100 10000\n"
     ]
    },
    {
     "data": {
      "text/html": [
       "<div>\n",
       "<style scoped>\n",
       "    .dataframe tbody tr th:only-of-type {\n",
       "        vertical-align: middle;\n",
       "    }\n",
       "\n",
       "    .dataframe tbody tr th {\n",
       "        vertical-align: top;\n",
       "    }\n",
       "\n",
       "    .dataframe thead th {\n",
       "        text-align: right;\n",
       "    }\n",
       "</style>\n",
       "<table border=\"1\" class=\"dataframe\">\n",
       "  <thead>\n",
       "    <tr style=\"text-align: right;\">\n",
       "      <th>percent uniq</th>\n",
       "      <th>10</th>\n",
       "      <th>5</th>\n",
       "      <th>1</th>\n",
       "    </tr>\n",
       "    <tr>\n",
       "      <th>total words</th>\n",
       "      <th></th>\n",
       "      <th></th>\n",
       "      <th></th>\n",
       "    </tr>\n",
       "  </thead>\n",
       "  <tbody>\n",
       "    <tr>\n",
       "      <th>1000</th>\n",
       "      <td>0.0639539</td>\n",
       "      <td>0.0590861</td>\n",
       "      <td>0.0685151</td>\n",
       "    </tr>\n",
       "    <tr>\n",
       "      <th>2000</th>\n",
       "      <td>0.080842</td>\n",
       "      <td>0.0658801</td>\n",
       "      <td>0.0597041</td>\n",
       "    </tr>\n",
       "    <tr>\n",
       "      <th>5000</th>\n",
       "      <td>0.133094</td>\n",
       "      <td>0.0981419</td>\n",
       "      <td>0.0674789</td>\n",
       "    </tr>\n",
       "    <tr>\n",
       "      <th>10000</th>\n",
       "      <td>0.365342</td>\n",
       "      <td>0.21298</td>\n",
       "      <td>0.0894432</td>\n",
       "    </tr>\n",
       "  </tbody>\n",
       "</table>\n",
       "</div>"
      ],
      "text/plain": [
       "percent uniq         10         5          1 \n",
       "total words                                  \n",
       "1000          0.0639539  0.0590861  0.0685151\n",
       "2000           0.080842  0.0658801  0.0597041\n",
       "5000           0.133094  0.0981419  0.0674789\n",
       "10000          0.365342    0.21298  0.0894432"
      ]
     },
     "execution_count": 25,
     "metadata": {},
     "output_type": "execute_result"
    }
   ],
   "source": [
    "def scale_df(commit):\n",
    "    df = pd.DataFrame(index=[1000, 2000, 5000, 10000], columns=[10, 5, 1])\n",
    "    df.index.name = \"total words\"\n",
    "    df.columns.name = \"percent uniq\"\n",
    "\n",
    "    for total in df.index:\n",
    "        for percent in df.columns:\n",
    "            uniq = total * percent // 100\n",
    "            print(uniq, total)\n",
    "            df.loc[total, percent] = time_run_sec(uniq, total, commit=commit)\n",
    "    return df\n",
    "\n",
    "v2 = scale_df(versions[\"v2-pass-per-uniq\"])\n",
    "v3 = scale_df(versions[\"v3-single-pass\"])\n",
    "v2"
   ]
  },
  {
   "cell_type": "code",
   "execution_count": 26,
   "metadata": {},
   "outputs": [
    {
     "data": {
      "image/png": "[encoded data removed]",
      "text/plain": [
       "<Figure size 720x216 with 2 Axes>"
      ]
     },
     "metadata": {
      "needs_background": "light"
     },
     "output_type": "display_data"
    }
   ],
   "source": [
    "#q13\n",
    "fig, axes = plt.subplots(ncols=2, sharey=True, figsize=(10, 3))\n",
    "v2.plot.line(ax=axes[0], xlim=0)\n",
    "v3.plot.line(ax=axes[1], xlim=0)\n",
    "format_ax(axes[0])\n",
    "format_ax(axes[1])\n",
    "axes[0].set_ylabel(\"Time (s)\")\n",
    "axes[0].set_title(\"version 3\")\n",
    "axes[1].set_title(\"version 4\")\n",
    "axes[0].legend().remove()"
   ]
  },
  {
   "cell_type": "code",
   "execution_count": 27,
   "metadata": {},
   "outputs": [],
   "source": [
    "class Commit:\n",
    "    def __init__(self, commit_hex, author, message):\n",
    "        self.commit_hex = commit_hex\n",
    "        self.author = author\n",
    "        self.message = message\n",
    "        \n",
    "    def __str__(self):\n",
    "        return f\"{self.commit_hex}[{self.author}]: {self.message}\"\n",
    "\n",
    "class Repo:\n",
    "    def __init__(self):\n",
    "        self.commits_list = []\n",
    "        self.commits_dict = {}\n",
    "        \n",
    "    def commit(self, commit_hex, author, message):\n",
    "        c = Commit(commit_hex, author, message)\n",
    "        self.commits_list.append(c)\n",
    "        self.commits_dict[commit_hex.lower()] = c\n",
    "        return c\n",
    "    \n",
    "    def __getitem__(self, key):\n",
    "        if isinstance(key, int):\n",
    "            return self.commits_list[key]\n",
    "        return self.commits_dict[key.lower().strip()]"
   ]
  },
  {
   "cell_type": "code",
   "execution_count": 28,
   "metadata": {},
   "outputs": [
    {
     "data": {
      "text/plain": [
       "('A39DE2', 'Ben', 'added a readme', 'B143D0', 'Jaime', 'optimized the code')"
      ]
     },
     "execution_count": 28,
     "metadata": {},
     "output_type": "execute_result"
    }
   ],
   "source": [
    "#q14\n",
    "repo = Repo()\n",
    "c1 = repo.commit(\"A39DE2\", \"Aarushi\", \"created the repo\")\n",
    "c2 = repo.commit(\"D1E9C5\", \"Ben\", \"wrote some code\")\n",
    "c3 = repo.commit(\"AA0912\", \"Emma\", \"added a readme\")\n",
    "c4 = repo.commit(\"B143D0\", \"Hunter\", \"made some tests\")\n",
    "c5 = repo.commit(\"F0148D\", \"Jaime\", \"fixed a bug\")\n",
    "c6 = repo.commit(\"B978EE\", \"Wendy\", \"optimized the code\")\n",
    "c1.commit_hex, c2.author, c3.message, c4.commit_hex, c5.author, c6.message"
   ]
  },
  {
   "cell_type": "code",
   "execution_count": 29,
   "metadata": {},
   "outputs": [
    {
     "data": {
      "text/plain": [
       "('A39DE2[Aarushi]: created the repo',\n",
       " 'D1E9C5[Ben]: wrote some code',\n",
       " 'B978EE[Wendy]: optimized the code')"
      ]
     },
     "execution_count": 29,
     "metadata": {},
     "output_type": "execute_result"
    }
   ],
   "source": [
    "#q15\n",
    "str(c1), str(repo[1]), str(repo[-1])"
   ]
  },
  {
   "cell_type": "code",
   "execution_count": 30,
   "metadata": {},
   "outputs": [
    {
     "data": {
      "text/plain": [
       "('F0148D[Jaime]: fixed a bug',\n",
       " 'B143D0[Hunter]: made some tests',\n",
       " 'AA0912[Emma]: added a readme')"
      ]
     },
     "execution_count": 30,
     "metadata": {},
     "output_type": "execute_result"
    }
   ],
   "source": [
    "#q16\n",
    "str(repo[\"F0148D\"]), str(repo[\"b143d0\"]), str(repo[\"  AA0912  \"])"
   ]
  },
  {
   "cell_type": "code",
   "execution_count": null,
   "metadata": {},
   "outputs": [],
   "source": []
  }
 ],
 "metadata": {
  "kernelspec": {
   "display_name": "Python 3",
   "language": "python",
   "name": "python3"
  },
  "language_info": {
   "codemirror_mode": {
    "name": "ipython",
    "version": 3
   },
   "file_extension": ".py",
   "mimetype": "text/x-python",
   "name": "python",
   "nbconvert_exporter": "python",
   "pygments_lexer": "ipython3",
   "version": "3.7.2"
  }
 },
 "nbformat": 4,
 "nbformat_minor": 4
}
