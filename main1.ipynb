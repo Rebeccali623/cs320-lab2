{
 "cells": [
  {
   "cell_type": "code",
   "execution_count": 1,
   "metadata": {},
   "outputs": [],
   "source": [
    "# project: p1\n",
    "# submitter: hli623\n",
    "# partner: none"
   ]
  },
  {
   "cell_type": "code",
   "execution_count": null,
   "metadata": {},
   "outputs": [],
   "source": [
    "import pylint, pandas, matplotlib, os, json, subprocess, random, string, time\n",
    "from matplotlib import pyplot as plt\n",
    "from bs4 import BeautifulSoup\n",
    "from subprocess import check_output\n",
    "from pandas import Series, DataFrame\n",
    "matplotlib.rcParams[\"font.size\"] = 16"
   ]
  },
  {
   "cell_type": "code",
   "execution_count": 3,
   "metadata": {},
   "outputs": [
    {
     "data": {
      "text/plain": [
       "8"
      ]
     },
     "execution_count": 3,
     "metadata": {},
     "output_type": "execute_result"
    }
   ],
   "source": [
    "# Q1: How many commits are in the repo?\n",
    "output = check_output([\"git\", \"log\", \"master\"], cwd=\"repo\")\n",
    "str_output = str(output, encoding=\"utf-8\")\n",
    "commits = str_output.split(\"\\n\\n\")\n",
    "count = 0\n",
    "for i in commits:\n",
    "    if \"commit\" in i:\n",
    "        count += 1     \n",
    "count"
   ]
  },
  {
   "cell_type": "code",
   "execution_count": 4,
   "metadata": {},
   "outputs": [
    {
     "data": {
      "text/plain": [
       "{'Steve': 3, 'Ada': 3, 'Linus': 2}"
      ]
     },
     "execution_count": 4,
     "metadata": {},
     "output_type": "execute_result"
    }
   ],
   "source": [
    "# Q2: How many commits were there by each author?\n",
    "author = {}\n",
    "for i in commits:\n",
    "    if \"Author\"in i:\n",
    "        commit_line = i.split(\"Author: \")\n",
    "        name = commit_line[1].split(\" <\")[0]\n",
    "        if name not in author:\n",
    "            dict1 = {name: 1}\n",
    "            author.update(dict1)\n",
    "        else:\n",
    "            author[name] += 1\n",
    "author"
   ]
  },
  {
   "cell_type": "code",
   "execution_count": 5,
   "metadata": {},
   "outputs": [
    {
     "data": {
      "text/plain": [
       "Text(0, 0.5, 'Commit Count')"
      ]
     },
     "execution_count": 5,
     "metadata": {},
     "output_type": "execute_result"
    },
    {
     "data": {
      "image/png": "[encoded data removed]",
      "text/plain": [
       "<Figure size 144x144 with 1 Axes>"
      ]
     },
     "metadata": {
      "needs_background": "light"
     },
     "output_type": "display_data"
    }
   ],
   "source": [
    "# Q3 [PLOT]: How many commits did each developer contribute?\n",
    "def get_ax():\n",
    "    ax = plt.subplot()\n",
    "    ax.spines[\"top\"].set_visible(False)\n",
    "    ax.spines[\"right\"].set_visible(False)\n",
    "    return ax\n",
    "ax = get_ax()\n",
    "ax = pandas.Series(author).plot.bar(color=\"black\", fontsize=16, figsize=(2, 2))\n",
    "ax.set_ylabel(\"Commit Count\", fontsize=16)"
   ]
  },
  {
   "cell_type": "code",
   "execution_count": 6,
   "metadata": {
    "scrolled": true
   },
   "outputs": [
    {
     "data": {
      "text/plain": [
       "[21, 35, 35, 39, 40, 40, 40, 43]"
      ]
     },
     "execution_count": 6,
     "metadata": {},
     "output_type": "execute_result"
    }
   ],
   "source": [
    "# Q4: How has the size of the wc.py code grown over time?\n",
    "numbers = []\n",
    "names = []\n",
    "for i in range(15, -1, -1):\n",
    "    if \"commit\" in commits[i]:\n",
    "        num = commits[i].split(\"commit \")[1].split(\"\\n\")[0]\n",
    "        numbers.append(num)\n",
    "        name = commits[i].split(\"Author: \")[1].split(\"<\")[0]\n",
    "        names.append(name)\n",
    "wc_size = []\n",
    "for i in numbers:\n",
    "    check_output([\"git\", \"checkout\", i], cwd=\"repo\")\n",
    "    with open(os.path.join(\".\", \"repo\", \"wc.py\"),\"r\") as f:\n",
    "        lines = f.read().split(\"\\n\")\n",
    "        wc_size.append(len(lines)-1)\n",
    "wc_size"
   ]
  },
  {
   "cell_type": "code",
   "execution_count": 7,
   "metadata": {},
   "outputs": [
    {
     "data": {
      "text/plain": [
       "Text(0, 0.5, 'Lines')"
      ]
     },
     "execution_count": 7,
     "metadata": {},
     "output_type": "execute_result"
    },
    {
     "data": {
      "image/png": "[encoded data removed]",
      "text/plain": [
       "<Figure size 432x288 with 1 Axes>"
      ]
     },
     "metadata": {
      "needs_background": "light"
     },
     "output_type": "display_data"
    }
   ],
   "source": [
    "# Q5 [PLOT]: How has the size of the wc.py code grown over time?\n",
    "x = list(range(0,7,2))\n",
    "y = list(range(0, 41, 10))\n",
    "ax = get_ax()\n",
    "ax = pandas.Series(wc_size, index=list(range(0, len(wc_size)))).plot.line(color=\"red\", fontsize=16)\n",
    "plt.xticks(x)\n",
    "plt.yticks(y)\n",
    "ax.set_xlabel(\"Commit\", fontsize=16)\n",
    "ax.set_ylabel(\"Lines\", fontsize=16)"
   ]
  },
  {
   "cell_type": "code",
   "execution_count": 8,
   "metadata": {},
   "outputs": [],
   "source": [
    "def run_wc(body, commit= \"master\"):\n",
    "    try:\n",
    "        check_output([\"git\", \"checkout\", commit], cwd=\"repo\")\n",
    "        with open(os.path.join(\"repo\", \"test.txt\"), \"w\") as f:\n",
    "            f.write(body)\n",
    "        output = check_output([\"python3\", \"wc.py\", \"test.txt\", \"ALL\"], cwd=\"repo\", universal_newlines=True)\n",
    "        return json.loads(output)\n",
    "    except subprocess.CalledProcessError:\n",
    "        return None\n",
    "    \n",
    "# test inputs to exercise wc.py\n",
    "# expected result: {'X': 1, 'Y': 1, 'Z': 1}\n",
    "test1 = \"\"\"X Y Z\"\"\"\n",
    "# expected result: \n",
    "test2 = \"\"\"A B\n",
    "A C\n",
    "\"\"\"\n",
    "# expected result: {'A': 2, 'B': 1, 'C': 1}\n",
    "test3 = \"\"\"A B\n",
    "a c\n",
    "\"\"\""
   ]
  },
  {
   "cell_type": "code",
   "execution_count": 9,
   "metadata": {},
   "outputs": [
    {
     "data": {
      "text/plain": [
       "{'X': 1, 'Y': 1, 'Z': 1}"
      ]
     },
     "execution_count": 9,
     "metadata": {},
     "output_type": "execute_result"
    }
   ],
   "source": [
    "# Q6: What does run_wc(test1) return?\n",
    "run_wc(test1)"
   ]
  },
  {
   "cell_type": "code",
   "execution_count": 10,
   "metadata": {},
   "outputs": [
    {
     "data": {
      "text/plain": [
       "{'A': 2, 'B': 1, 'C': 1}"
      ]
     },
     "execution_count": 10,
     "metadata": {},
     "output_type": "execute_result"
    }
   ],
   "source": [
    "# Q7: What does run_wc(test3) return?\n",
    "run_wc(test3)"
   ]
  },
  {
   "cell_type": "code",
   "execution_count": 11,
   "metadata": {},
   "outputs": [],
   "source": [
    "def test_table(body, expected):\n",
    "    try:\n",
    "        df = DataFrame()\n",
    "        df[\"commit\"] = numbers\n",
    "        df[\"author\"] = names\n",
    "        pass_result = []\n",
    "        for i in numbers:\n",
    "            check_output([\"git\", \"checkout\", i], cwd=\"repo\")\n",
    "            output = run_wc(body, i)\n",
    "            pass_result.append(output == expected)\n",
    "        df[\"pass\"] = pass_result\n",
    "        return df\n",
    "    except subprocess.CalledProcessError:\n",
    "        return None"
   ]
  },
  {
   "cell_type": "code",
   "execution_count": 12,
   "metadata": {},
   "outputs": [
    {
     "data": {
      "text/html": [
       "<div>\n",
       "<style scoped>\n",
       "    .dataframe tbody tr th:only-of-type {\n",
       "        vertical-align: middle;\n",
       "    }\n",
       "\n",
       "    .dataframe tbody tr th {\n",
       "        vertical-align: top;\n",
       "    }\n",
       "\n",
       "    .dataframe thead th {\n",
       "        text-align: right;\n",
       "    }\n",
       "</style>\n",
       "<table border=\"1\" class=\"dataframe\">\n",
       "  <thead>\n",
       "    <tr style=\"text-align: right;\">\n",
       "      <th></th>\n",
       "      <th>commit</th>\n",
       "      <th>author</th>\n",
       "      <th>pass</th>\n",
       "    </tr>\n",
       "  </thead>\n",
       "  <tbody>\n",
       "    <tr>\n",
       "      <th>0</th>\n",
       "      <td>6d7beafb8e79b7a92fed8e67673a33bb7f607dbe</td>\n",
       "      <td>Ada</td>\n",
       "      <td>False</td>\n",
       "    </tr>\n",
       "    <tr>\n",
       "      <th>1</th>\n",
       "      <td>b0df6dbe111f9e28fc3a9c9b841cde5c20c365f9</td>\n",
       "      <td>Linus</td>\n",
       "      <td>True</td>\n",
       "    </tr>\n",
       "    <tr>\n",
       "      <th>2</th>\n",
       "      <td>761627a3ad9ee681f27211326e9149f01764ceee</td>\n",
       "      <td>Linus</td>\n",
       "      <td>True</td>\n",
       "    </tr>\n",
       "    <tr>\n",
       "      <th>3</th>\n",
       "      <td>6f5ca9327e986315ffcacddce5d9d6195c0913b7</td>\n",
       "      <td>Ada</td>\n",
       "      <td>True</td>\n",
       "    </tr>\n",
       "    <tr>\n",
       "      <th>4</th>\n",
       "      <td>f37e610ce055a3d894baac2d9449e6eb77c72320</td>\n",
       "      <td>Steve</td>\n",
       "      <td>True</td>\n",
       "    </tr>\n",
       "    <tr>\n",
       "      <th>5</th>\n",
       "      <td>c10b5a6cb4f06c96f6f221df2d5ec33af767d5c5</td>\n",
       "      <td>Ada</td>\n",
       "      <td>True</td>\n",
       "    </tr>\n",
       "    <tr>\n",
       "      <th>6</th>\n",
       "      <td>f637df3f45bc389e1035cc3aadcf5d81a55f0dc4</td>\n",
       "      <td>Steve</td>\n",
       "      <td>False</td>\n",
       "    </tr>\n",
       "    <tr>\n",
       "      <th>7</th>\n",
       "      <td>4e4128313b8d5b5e5d04f2e8e585f64f7c5831a4</td>\n",
       "      <td>Steve</td>\n",
       "      <td>True</td>\n",
       "    </tr>\n",
       "  </tbody>\n",
       "</table>\n",
       "</div>"
      ],
      "text/plain": [
       "                                     commit  author   pass\n",
       "0  6d7beafb8e79b7a92fed8e67673a33bb7f607dbe    Ada   False\n",
       "1  b0df6dbe111f9e28fc3a9c9b841cde5c20c365f9  Linus    True\n",
       "2  761627a3ad9ee681f27211326e9149f01764ceee  Linus    True\n",
       "3  6f5ca9327e986315ffcacddce5d9d6195c0913b7    Ada    True\n",
       "4  f37e610ce055a3d894baac2d9449e6eb77c72320  Steve    True\n",
       "5  c10b5a6cb4f06c96f6f221df2d5ec33af767d5c5    Ada    True\n",
       "6  f637df3f45bc389e1035cc3aadcf5d81a55f0dc4  Steve   False\n",
       "7  4e4128313b8d5b5e5d04f2e8e585f64f7c5831a4  Steve    True"
      ]
     },
     "execution_count": 12,
     "metadata": {},
     "output_type": "execute_result"
    }
   ],
   "source": [
    "# Q8: What does test_table(test1, {'X': 1, 'Y': 1, 'Z': 1})\n",
    "test_table(test1, {'X': 1, 'Y': 1, 'Z': 1})"
   ]
  },
  {
   "cell_type": "code",
   "execution_count": 13,
   "metadata": {},
   "outputs": [
    {
     "data": {
      "text/html": [
       "<div>\n",
       "<style scoped>\n",
       "    .dataframe tbody tr th:only-of-type {\n",
       "        vertical-align: middle;\n",
       "    }\n",
       "\n",
       "    .dataframe tbody tr th {\n",
       "        vertical-align: top;\n",
       "    }\n",
       "\n",
       "    .dataframe thead th {\n",
       "        text-align: right;\n",
       "    }\n",
       "</style>\n",
       "<table border=\"1\" class=\"dataframe\">\n",
       "  <thead>\n",
       "    <tr style=\"text-align: right;\">\n",
       "      <th></th>\n",
       "      <th>commit</th>\n",
       "      <th>author</th>\n",
       "      <th>pass</th>\n",
       "    </tr>\n",
       "  </thead>\n",
       "  <tbody>\n",
       "    <tr>\n",
       "      <th>0</th>\n",
       "      <td>6d7beafb8e79b7a92fed8e67673a33bb7f607dbe</td>\n",
       "      <td>Ada</td>\n",
       "      <td>False</td>\n",
       "    </tr>\n",
       "    <tr>\n",
       "      <th>1</th>\n",
       "      <td>b0df6dbe111f9e28fc3a9c9b841cde5c20c365f9</td>\n",
       "      <td>Linus</td>\n",
       "      <td>False</td>\n",
       "    </tr>\n",
       "    <tr>\n",
       "      <th>2</th>\n",
       "      <td>761627a3ad9ee681f27211326e9149f01764ceee</td>\n",
       "      <td>Linus</td>\n",
       "      <td>True</td>\n",
       "    </tr>\n",
       "    <tr>\n",
       "      <th>3</th>\n",
       "      <td>6f5ca9327e986315ffcacddce5d9d6195c0913b7</td>\n",
       "      <td>Ada</td>\n",
       "      <td>True</td>\n",
       "    </tr>\n",
       "    <tr>\n",
       "      <th>4</th>\n",
       "      <td>f37e610ce055a3d894baac2d9449e6eb77c72320</td>\n",
       "      <td>Steve</td>\n",
       "      <td>True</td>\n",
       "    </tr>\n",
       "    <tr>\n",
       "      <th>5</th>\n",
       "      <td>c10b5a6cb4f06c96f6f221df2d5ec33af767d5c5</td>\n",
       "      <td>Ada</td>\n",
       "      <td>True</td>\n",
       "    </tr>\n",
       "    <tr>\n",
       "      <th>6</th>\n",
       "      <td>f637df3f45bc389e1035cc3aadcf5d81a55f0dc4</td>\n",
       "      <td>Steve</td>\n",
       "      <td>False</td>\n",
       "    </tr>\n",
       "    <tr>\n",
       "      <th>7</th>\n",
       "      <td>4e4128313b8d5b5e5d04f2e8e585f64f7c5831a4</td>\n",
       "      <td>Steve</td>\n",
       "      <td>True</td>\n",
       "    </tr>\n",
       "  </tbody>\n",
       "</table>\n",
       "</div>"
      ],
      "text/plain": [
       "                                     commit  author   pass\n",
       "0  6d7beafb8e79b7a92fed8e67673a33bb7f607dbe    Ada   False\n",
       "1  b0df6dbe111f9e28fc3a9c9b841cde5c20c365f9  Linus   False\n",
       "2  761627a3ad9ee681f27211326e9149f01764ceee  Linus    True\n",
       "3  6f5ca9327e986315ffcacddce5d9d6195c0913b7    Ada    True\n",
       "4  f37e610ce055a3d894baac2d9449e6eb77c72320  Steve    True\n",
       "5  c10b5a6cb4f06c96f6f221df2d5ec33af767d5c5    Ada    True\n",
       "6  f637df3f45bc389e1035cc3aadcf5d81a55f0dc4  Steve   False\n",
       "7  4e4128313b8d5b5e5d04f2e8e585f64f7c5831a4  Steve    True"
      ]
     },
     "execution_count": 13,
     "metadata": {},
     "output_type": "execute_result"
    }
   ],
   "source": [
    "# Q9: What does test_table(test2, {'A': 2, 'B': 1, 'C': 1}) return?\n",
    "test_table(test2, {'A': 2, 'B': 1, 'C': 1})"
   ]
  },
  {
   "cell_type": "code",
   "execution_count": 14,
   "metadata": {},
   "outputs": [
    {
     "data": {
      "text/html": [
       "<div>\n",
       "<style scoped>\n",
       "    .dataframe tbody tr th:only-of-type {\n",
       "        vertical-align: middle;\n",
       "    }\n",
       "\n",
       "    .dataframe tbody tr th {\n",
       "        vertical-align: top;\n",
       "    }\n",
       "\n",
       "    .dataframe thead th {\n",
       "        text-align: right;\n",
       "    }\n",
       "</style>\n",
       "<table border=\"1\" class=\"dataframe\">\n",
       "  <thead>\n",
       "    <tr style=\"text-align: right;\">\n",
       "      <th></th>\n",
       "      <th>commit</th>\n",
       "      <th>author</th>\n",
       "      <th>pass</th>\n",
       "    </tr>\n",
       "  </thead>\n",
       "  <tbody>\n",
       "    <tr>\n",
       "      <th>0</th>\n",
       "      <td>6d7beafb8e79b7a92fed8e67673a33bb7f607dbe</td>\n",
       "      <td>Ada</td>\n",
       "      <td>False</td>\n",
       "    </tr>\n",
       "    <tr>\n",
       "      <th>1</th>\n",
       "      <td>b0df6dbe111f9e28fc3a9c9b841cde5c20c365f9</td>\n",
       "      <td>Linus</td>\n",
       "      <td>False</td>\n",
       "    </tr>\n",
       "    <tr>\n",
       "      <th>2</th>\n",
       "      <td>761627a3ad9ee681f27211326e9149f01764ceee</td>\n",
       "      <td>Linus</td>\n",
       "      <td>False</td>\n",
       "    </tr>\n",
       "    <tr>\n",
       "      <th>3</th>\n",
       "      <td>6f5ca9327e986315ffcacddce5d9d6195c0913b7</td>\n",
       "      <td>Ada</td>\n",
       "      <td>True</td>\n",
       "    </tr>\n",
       "    <tr>\n",
       "      <th>4</th>\n",
       "      <td>f37e610ce055a3d894baac2d9449e6eb77c72320</td>\n",
       "      <td>Steve</td>\n",
       "      <td>True</td>\n",
       "    </tr>\n",
       "    <tr>\n",
       "      <th>5</th>\n",
       "      <td>c10b5a6cb4f06c96f6f221df2d5ec33af767d5c5</td>\n",
       "      <td>Ada</td>\n",
       "      <td>True</td>\n",
       "    </tr>\n",
       "    <tr>\n",
       "      <th>6</th>\n",
       "      <td>f637df3f45bc389e1035cc3aadcf5d81a55f0dc4</td>\n",
       "      <td>Steve</td>\n",
       "      <td>False</td>\n",
       "    </tr>\n",
       "    <tr>\n",
       "      <th>7</th>\n",
       "      <td>4e4128313b8d5b5e5d04f2e8e585f64f7c5831a4</td>\n",
       "      <td>Steve</td>\n",
       "      <td>True</td>\n",
       "    </tr>\n",
       "  </tbody>\n",
       "</table>\n",
       "</div>"
      ],
      "text/plain": [
       "                                     commit  author   pass\n",
       "0  6d7beafb8e79b7a92fed8e67673a33bb7f607dbe    Ada   False\n",
       "1  b0df6dbe111f9e28fc3a9c9b841cde5c20c365f9  Linus   False\n",
       "2  761627a3ad9ee681f27211326e9149f01764ceee  Linus   False\n",
       "3  6f5ca9327e986315ffcacddce5d9d6195c0913b7    Ada    True\n",
       "4  f37e610ce055a3d894baac2d9449e6eb77c72320  Steve    True\n",
       "5  c10b5a6cb4f06c96f6f221df2d5ec33af767d5c5    Ada    True\n",
       "6  f637df3f45bc389e1035cc3aadcf5d81a55f0dc4  Steve   False\n",
       "7  4e4128313b8d5b5e5d04f2e8e585f64f7c5831a4  Steve    True"
      ]
     },
     "execution_count": 14,
     "metadata": {},
     "output_type": "execute_result"
    }
   ],
   "source": [
    "# Q10: What does test_table(test3, {'A': 2, 'B': 1, 'C': 1}) return?\n",
    "test_table(test3, {'A': 2, 'B': 1, 'C': 1})"
   ]
  },
  {
   "cell_type": "markdown",
   "metadata": {},
   "source": [
    "To get full points, write a short comment here about which of the three test inputs is most useful for evaluating the wc.py program.\n",
    "- Test 3 is the most useful one because it contains both upper case and lower case."
   ]
  },
  {
   "cell_type": "code",
   "execution_count": 15,
   "metadata": {},
   "outputs": [],
   "source": [
    "def time_run_sec(uniq_words, total_words, word_size=6, commit = \"master\"):\n",
    "    unique = []\n",
    "    random_str = \"\"\n",
    "    for i in range(uniq_words):\n",
    "        unique.append(\"\".join([random.choice(string.ascii_letters) for i in range(word_size)]))\n",
    "    for i in range(total_words):\n",
    "        random_str += random.choice(unique) + \" \"\n",
    "    before = time.time()\n",
    "    run_wc(random_str, commit)\n",
    "    after = time.time()\n",
    "    return  (after-before) * 1000\n",
    "\n",
    "versions = {\n",
    "    \"v0-baseline\": \"6f5ca9327e986315ffcacddce5d9d6195c0913b7\",\n",
    "    \"v1-open-once\": \"f37e610ce055a3d894baac2d9449e6eb77c72320\",\n",
    "    \"v2-pass-per-uniq\": \"c10b5a6cb4f06c96f6f221df2d5ec33af767d5c5\",\n",
    "    \"v3-single-pass\": \"4e4128313b8d5b5e5d04f2e8e585f64f7c5831a4\",\n",
    "}\n",
    "\n",
    "def draw_version(uniq_words, total_words):\n",
    "    x = list(versions.keys())\n",
    "    x.reverse()\n",
    "    y = []\n",
    "    for v in x:\n",
    "        y.append(time_run_sec(uniq_words, total_words, commit = versions[v]))\n",
    "    dic11 = {}\n",
    "    for i in range(len(x)):\n",
    "        dic = {x[i]: y[i]}\n",
    "        dic11.update(dic)\n",
    "    ax = get_ax()\n",
    "    ax = pandas.Series(dic11).plot.barh(color=\"black\", figsize=(4, 2))\n",
    "    ax.set_xscale(\"log\")\n",
    "    plt.xlim(10**1, 10**4-1)\n",
    "    ax.set_xlabel(\"Exec Time (ms)\")\n",
    "    ax.set_yticks(range(len(x)))\n",
    "    ax.set_yticklabels(x)\n",
    "    return ax"
   ]
  },
  {
   "cell_type": "code",
   "execution_count": 16,
   "metadata": {},
   "outputs": [
    {
     "data": {
      "text/plain": [
       "<AxesSubplot:xlabel='Exec Time (ms)'>"
      ]
     },
     "execution_count": 16,
     "metadata": {},
     "output_type": "execute_result"
    },
    {
     "data": {
      "image/png": "[encoded data removed]",
      "text/plain": [
       "<Figure size 288x144 with 1 Axes>"
      ]
     },
     "metadata": {
      "needs_background": "light"
     },
     "output_type": "display_data"
    }
   ],
   "source": [
    "# Q11: How long does each version take for 5000-word inputs consisting of 100 unique words?\n",
    "draw_version(100, 5000)"
   ]
  },
  {
   "cell_type": "code",
   "execution_count": 17,
   "metadata": {},
   "outputs": [
    {
     "data": {
      "text/plain": [
       "<AxesSubplot:xlabel='Exec Time (ms)'>"
      ]
     },
     "execution_count": 17,
     "metadata": {},
     "output_type": "execute_result"
    },
    {
     "data": {
      "image/png": "[encoded data removed]",
      "text/plain": [
       "<Figure size 288x144 with 1 Axes>"
      ]
     },
     "metadata": {
      "needs_background": "light"
     },
     "output_type": "display_data"
    }
   ],
   "source": [
    "# Q12: How long does each version take for 5000-word inputs consisting of 1 unique words?\n",
    "draw_version(1, 5000)"
   ]
  },
  {
   "cell_type": "markdown",
   "metadata": {},
   "source": [
    "To get full points, write a short comment here with a hypothesis about when the v3 version does better than the v2 version.\n",
    "- V3 version does better than v2 version when the unique words are large."
   ]
  },
  {
   "cell_type": "code",
   "execution_count": 18,
   "metadata": {},
   "outputs": [],
   "source": [
    "total = [1000, 2000, 5000, 10000]\n",
    "percent = [10, 5, 1]\n",
    "def tp_df(ver):\n",
    "    df = DataFrame()\n",
    "    for i in percent:\n",
    "        col = []\n",
    "        for j in total:\n",
    "            uniq = int(0.01 * i * j)\n",
    "            col.append(time_run_sec(uniq, j, commit = versions[ver])/1000)\n",
    "        df[i] = col\n",
    "    df.index = total\n",
    "    return df"
   ]
  },
  {
   "cell_type": "code",
   "execution_count": 19,
   "metadata": {},
   "outputs": [
    {
     "data": {
      "text/plain": [
       "Text(0, 0.5, 'Time(s)')"
      ]
     },
     "execution_count": 19,
     "metadata": {},
     "output_type": "execute_result"
    },
    {
     "data": {
      "image/png": "[encoded data removed]",
      "text/plain": [
       "<Figure size 1152x432 with 2 Axes>"
      ]
     },
     "metadata": {
      "needs_background": "light"
     },
     "output_type": "display_data"
    }
   ],
   "source": [
    "df1 = tp_df(\"v2-pass-per-uniq\")\n",
    "df2 = tp_df(\"v3-single-pass\")\n",
    "    \n",
    "# Q13 [PLOT]: How does the number of total words and unique percent affect the performance of versions 2 and 3?\n",
    "figure, axes = plt.subplots(1, 2, sharey=True)\n",
    "y = [0.1, 0.2, 0.3, 0.4]\n",
    "line1 = df1.plot(ax=axes[0], legend=None, title='version2', fontsize=16, figsize=(16, 6))\n",
    "line2 = df2.plot(ax=axes[1], title='version3', figsize=(16, 6))\n",
    "line1.set_ylim([0, 0.4])\n",
    "plt.yticks(y)\n",
    "plt.legend(title=\"percent uniq\")\n",
    "line1.set_xlabel(\"total words\")\n",
    "line1.set_ylabel(\"Time(s)\")\n",
    "line2.set_xlabel(\"total words\", fontsize=16)\n",
    "line2.set_ylabel(\"Time(s)\")"
   ]
  },
  {
   "cell_type": "code",
   "execution_count": 20,
   "metadata": {},
   "outputs": [],
   "source": [
    "class Commit:\n",
    "    def __init__(self, commit_hex, author, message):\n",
    "        self.commit_hex = commit_hex\n",
    "        self.author = author\n",
    "        self.message = message\n",
    "    def __str__(self):\n",
    "        sstr = self.commit_hex+\"[\"+self.author+\"]\"+\": \"+self.message\n",
    "        return sstr\n",
    "class Repo:\n",
    "    def __init__(self):\n",
    "        self.rlist = []\n",
    "    def commit(self, commit_hex, author, message):\n",
    "        cmt = Commit(commit_hex, author, message)\n",
    "        self.rlist.append(cmt)\n",
    "        return cmt\n",
    "    def __getitem__ (self, idx):\n",
    "        if type(idx) == int:\n",
    "            return self.rlist[idx]\n",
    "        if type(idx) == str:\n",
    "            idx = idx.upper()\n",
    "            idx = idx.replace(\" \", \"\")\n",
    "            for r in self.rlist:\n",
    "                if r.commit_hex == idx:\n",
    "                    return str(r)\n",
    "repo = Repo()\n",
    "c1 = repo.commit(\"A39DE2\", \"Aarushi\", \"created the repo\")\n",
    "c2 = repo.commit(\"D1E9C5\", \"Ben\", \"wrote some code\")\n",
    "c3 = repo.commit(\"AA0912\", \"Emma\", \"added a readme\")\n",
    "c4 = repo.commit(\"B143D0\", \"Hunter\", \"made some tests\")\n",
    "c5 = repo.commit(\"F0148D\", \"Jaime\", \"fixed a bug\")\n",
    "c6 = repo.commit(\"B978EE\", \"Wendy\", \"optimized the code\")"
   ]
  },
  {
   "cell_type": "code",
   "execution_count": 21,
   "metadata": {},
   "outputs": [
    {
     "data": {
      "text/plain": [
       "('A39DE2', 'Ben', 'added a readme', 'B143D0', 'Jaime', 'optimized the code')"
      ]
     },
     "execution_count": 21,
     "metadata": {},
     "output_type": "execute_result"
    }
   ],
   "source": [
    "# Q14: what does running the following in a cell produce?\n",
    "c1.commit_hex, c2.author, c3.message, c4.commit_hex, c5.author, c6.message"
   ]
  },
  {
   "cell_type": "code",
   "execution_count": 22,
   "metadata": {},
   "outputs": [
    {
     "data": {
      "text/plain": [
       "('A39DE2[Aarushi]: created the repo',\n",
       " 'D1E9C5[Ben]: wrote some code',\n",
       " 'B978EE[Wendy]: optimized the code')"
      ]
     },
     "execution_count": 22,
     "metadata": {},
     "output_type": "execute_result"
    }
   ],
   "source": [
    "# Q15: what does running the following in a cell produce?\n",
    "str(c1), str(repo[1]), str(repo[-1])"
   ]
  },
  {
   "cell_type": "code",
   "execution_count": 23,
   "metadata": {},
   "outputs": [
    {
     "data": {
      "text/plain": [
       "('F0148D[Jaime]: fixed a bug',\n",
       " 'B143D0[Hunter]: made some tests',\n",
       " 'AA0912[Emma]: added a readme')"
      ]
     },
     "execution_count": 23,
     "metadata": {},
     "output_type": "execute_result"
    }
   ],
   "source": [
    "# Q16: what does running the following in a cell produce?\n",
    "str(repo[\"F0148D\"]), str(repo[\"b143d0\"]), str(repo[\"  AA0912  \"])"
   ]
  }
 ],
 "metadata": {
  "kernelspec": {
   "display_name": "Python 3",
   "language": "python",
   "name": "python3"
  },
  "language_info": {
   "codemirror_mode": {
    "name": "ipython",
    "version": 3
   },
   "file_extension": ".py",
   "mimetype": "text/x-python",
   "name": "python",
   "nbconvert_exporter": "python",
   "pygments_lexer": "ipython3",
   "version": "3.8.1"
  }
 },
 "nbformat": 4,
 "nbformat_minor": 4
}
